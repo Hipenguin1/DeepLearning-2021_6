{
 "metadata": {
  "language_info": {
   "codemirror_mode": {
    "name": "ipython",
    "version": 3
   },
   "file_extension": ".py",
   "mimetype": "text/x-python",
   "name": "python",
   "nbconvert_exporter": "python",
   "pygments_lexer": "ipython3",
   "version": "3.8.5"
  },
  "orig_nbformat": 4,
  "kernelspec": {
   "name": "python3",
   "display_name": "Python 3.8.5 64-bit ('base': conda)"
  },
  "interpreter": {
   "hash": "8c1eae21719a0790335dcb83aad72b63b602cfe5cdb2bda0f60bc11d4f154e4b"
  }
 },
 "nbformat": 4,
 "nbformat_minor": 2,
 "cells": [
  {
   "source": [
    "# 원, 사각형, 삼각형 구분하기\n",
    "- 어려운 테스트 문제를 기존 CNN모델로 푸는 경우"
   ],
   "cell_type": "markdown",
   "metadata": {}
  },
  {
   "cell_type": "code",
   "execution_count": 1,
   "metadata": {},
   "outputs": [],
   "source": [
    "import numpy as np\n",
    "import tensorflow as tf\n",
    "from tensorflow.keras.models import Sequential\n",
    "from tensorflow.keras.layers import Dense, Conv2D, Flatten, MaxPooling2D\n",
    "from tensorflow.keras.preprocessing.image import ImageDataGenerator"
   ]
  },
  {
   "cell_type": "code",
   "execution_count": 2,
   "metadata": {},
   "outputs": [],
   "source": [
    "seed = 2021\n",
    "np.random.seed(seed)\n",
    "tf.random.set_seed(seed)"
   ]
  },
  {
   "cell_type": "code",
   "execution_count": 3,
   "metadata": {},
   "outputs": [
    {
     "output_type": "stream",
     "name": "stdout",
     "text": [
      "Found 45 images belonging to 3 classes.\n"
     ]
    }
   ],
   "source": [
    "train_datagen = ImageDataGenerator(rescale=1./255)\n",
    "train_generator = train_datagen.flow_from_directory(\n",
    "    'hard_handwriting_shape/train',\n",
    "    target_size=(24,24),\n",
    "    batch_size=3,\n",
    "    class_mode='categorical'\n",
    ")"
   ]
  },
  {
   "cell_type": "code",
   "execution_count": 4,
   "metadata": {},
   "outputs": [
    {
     "output_type": "stream",
     "name": "stdout",
     "text": [
      "Found 15 images belonging to 3 classes.\n"
     ]
    }
   ],
   "source": [
    "\n",
    "test_datagen = ImageDataGenerator(rescale=1./255)\n",
    "test_generator = test_datagen.flow_from_directory(\n",
    "    'hard_handwriting_shape/test',\n",
    "    target_size=(24,24),\n",
    "    batch_size=3,\n",
    "    class_mode='categorical'\n",
    ")"
   ]
  },
  {
   "cell_type": "code",
   "execution_count": 5,
   "metadata": {},
   "outputs": [
    {
     "output_type": "stream",
     "name": "stdout",
     "text": [
      "Model: \"sequential\"\n_________________________________________________________________\nLayer (type)                 Output Shape              Param #   \n=================================================================\nconv2d (Conv2D)              (None, 22, 22, 32)        896       \n_________________________________________________________________\nconv2d_1 (Conv2D)            (None, 20, 20, 64)        18496     \n_________________________________________________________________\nmax_pooling2d (MaxPooling2D) (None, 10, 10, 64)        0         \n_________________________________________________________________\nflatten (Flatten)            (None, 6400)              0         \n_________________________________________________________________\ndense (Dense)                (None, 128)               819328    \n_________________________________________________________________\ndense_1 (Dense)              (None, 3)                 387       \n=================================================================\nTotal params: 839,107\nTrainable params: 839,107\nNon-trainable params: 0\n_________________________________________________________________\n"
     ]
    }
   ],
   "source": [
    "model = Sequential([\n",
    "    Conv2D(32, (3,3), activation='relu', input_shape=(24,24,3)),\n",
    "    Conv2D(64, (3,3), activation='relu'),\n",
    "    MaxPooling2D(),\n",
    "    Flatten(),\n",
    "    Dense(128, activation='relu'),\n",
    "    Dense(3, activation='softmax')             \n",
    "])\n",
    "model.summary()"
   ]
  },
  {
   "cell_type": "code",
   "execution_count": 6,
   "metadata": {},
   "outputs": [],
   "source": [
    "model.compile(loss='categorical_crossentropy', optimizer='adam', metrics=['accuracy'])"
   ]
  },
  {
   "cell_type": "code",
   "execution_count": 7,
   "metadata": {
    "tags": [
     "outputPrepend"
    ]
   },
   "outputs": [
    {
     "output_type": "stream",
     "name": "stdout",
     "text": [
      " - val_loss: 6.9556 - val_accuracy: 0.3333\n",
      "Epoch 65/200\n",
      "15/15 [==============================] - 0s 7ms/step - loss: 2.8822e-06 - accuracy: 1.0000 - val_loss: 6.9518 - val_accuracy: 0.3333\n",
      "Epoch 66/200\n",
      "15/15 [==============================] - 0s 7ms/step - loss: 2.2120e-06 - accuracy: 1.0000 - val_loss: 6.9677 - val_accuracy: 0.3333\n",
      "Epoch 67/200\n",
      "15/15 [==============================] - 0s 7ms/step - loss: 1.7404e-06 - accuracy: 1.0000 - val_loss: 6.9748 - val_accuracy: 0.3333\n",
      "Epoch 68/200\n",
      "15/15 [==============================] - 0s 7ms/step - loss: 1.4120e-06 - accuracy: 1.0000 - val_loss: 6.9764 - val_accuracy: 0.3333\n",
      "Epoch 69/200\n",
      "15/15 [==============================] - 0s 7ms/step - loss: 1.1179e-06 - accuracy: 1.0000 - val_loss: 7.0017 - val_accuracy: 0.3333\n",
      "Epoch 70/200\n",
      "15/15 [==============================] - 0s 7ms/step - loss: 9.1129e-07 - accuracy: 1.0000 - val_loss: 7.0058 - val_accuracy: 0.3333\n",
      "Epoch 71/200\n",
      "15/15 [==============================] - 0s 7ms/step - loss: 7.5764e-07 - accuracy: 1.0000 - val_loss: 7.0362 - val_accuracy: 0.3333\n",
      "Epoch 72/200\n",
      "15/15 [==============================] - 0s 9ms/step - loss: 6.3843e-07 - accuracy: 1.0000 - val_loss: 7.0602 - val_accuracy: 0.3333\n",
      "Epoch 73/200\n",
      "15/15 [==============================] - 0s 8ms/step - loss: 5.5896e-07 - accuracy: 1.0000 - val_loss: 7.0800 - val_accuracy: 0.3333\n",
      "Epoch 74/200\n",
      "15/15 [==============================] - 0s 7ms/step - loss: 4.7419e-07 - accuracy: 1.0000 - val_loss: 7.0783 - val_accuracy: 0.3333\n",
      "Epoch 75/200\n",
      "15/15 [==============================] - 0s 7ms/step - loss: 4.3180e-07 - accuracy: 1.0000 - val_loss: 7.1096 - val_accuracy: 0.3333\n",
      "Epoch 76/200\n",
      "15/15 [==============================] - 0s 7ms/step - loss: 3.7617e-07 - accuracy: 1.0000 - val_loss: 7.1256 - val_accuracy: 0.4000\n",
      "Epoch 77/200\n",
      "15/15 [==============================] - 0s 7ms/step - loss: 3.4438e-07 - accuracy: 1.0000 - val_loss: 7.1316 - val_accuracy: 0.4000\n",
      "Epoch 78/200\n",
      "15/15 [==============================] - 0s 7ms/step - loss: 3.0200e-07 - accuracy: 1.0000 - val_loss: 7.1483 - val_accuracy: 0.4000\n",
      "Epoch 79/200\n",
      "15/15 [==============================] - 0s 7ms/step - loss: 2.6756e-07 - accuracy: 1.0000 - val_loss: 7.1655 - val_accuracy: 0.4000\n",
      "Epoch 80/200\n",
      "15/15 [==============================] - 0s 8ms/step - loss: 2.6226e-07 - accuracy: 1.0000 - val_loss: 7.1807 - val_accuracy: 0.4000\n",
      "Epoch 81/200\n",
      "15/15 [==============================] - 0s 8ms/step - loss: 2.4107e-07 - accuracy: 1.0000 - val_loss: 7.1918 - val_accuracy: 0.4000\n",
      "Epoch 82/200\n",
      "15/15 [==============================] - 0s 7ms/step - loss: 2.1458e-07 - accuracy: 1.0000 - val_loss: 7.2010 - val_accuracy: 0.4000\n",
      "Epoch 83/200\n",
      "15/15 [==============================] - 0s 8ms/step - loss: 2.0133e-07 - accuracy: 1.0000 - val_loss: 7.2156 - val_accuracy: 0.4000\n",
      "Epoch 84/200\n",
      "15/15 [==============================] - 0s 9ms/step - loss: 1.8279e-07 - accuracy: 1.0000 - val_loss: 7.2284 - val_accuracy: 0.4000\n",
      "Epoch 85/200\n",
      "15/15 [==============================] - 0s 8ms/step - loss: 1.7749e-07 - accuracy: 1.0000 - val_loss: 7.2387 - val_accuracy: 0.4000\n",
      "Epoch 86/200\n",
      "15/15 [==============================] - 0s 8ms/step - loss: 1.6159e-07 - accuracy: 1.0000 - val_loss: 7.2477 - val_accuracy: 0.4000\n",
      "Epoch 87/200\n",
      "15/15 [==============================] - 0s 7ms/step - loss: 1.5365e-07 - accuracy: 1.0000 - val_loss: 7.2551 - val_accuracy: 0.4000\n",
      "Epoch 88/200\n",
      "15/15 [==============================] - 0s 7ms/step - loss: 1.4040e-07 - accuracy: 1.0000 - val_loss: 7.2672 - val_accuracy: 0.4000\n",
      "Epoch 89/200\n",
      "15/15 [==============================] - 0s 7ms/step - loss: 1.3245e-07 - accuracy: 1.0000 - val_loss: 7.2674 - val_accuracy: 0.4000\n",
      "Epoch 90/200\n",
      "15/15 [==============================] - 0s 8ms/step - loss: 1.2451e-07 - accuracy: 1.0000 - val_loss: 7.2801 - val_accuracy: 0.4000\n",
      "Epoch 91/200\n",
      "15/15 [==============================] - 0s 7ms/step - loss: 1.2186e-07 - accuracy: 1.0000 - val_loss: 7.2926 - val_accuracy: 0.4000\n",
      "Epoch 92/200\n",
      "15/15 [==============================] - 0s 7ms/step - loss: 1.1921e-07 - accuracy: 1.0000 - val_loss: 7.2963 - val_accuracy: 0.4000\n",
      "Epoch 93/200\n",
      "15/15 [==============================] - 0s 7ms/step - loss: 1.0861e-07 - accuracy: 1.0000 - val_loss: 7.2984 - val_accuracy: 0.4000\n",
      "Epoch 94/200\n",
      "15/15 [==============================] - 0s 7ms/step - loss: 1.0596e-07 - accuracy: 1.0000 - val_loss: 7.3107 - val_accuracy: 0.4000\n",
      "Epoch 95/200\n",
      "15/15 [==============================] - 0s 7ms/step - loss: 1.0067e-07 - accuracy: 1.0000 - val_loss: 7.3123 - val_accuracy: 0.4000\n",
      "Epoch 96/200\n",
      "15/15 [==============================] - 0s 7ms/step - loss: 1.0067e-07 - accuracy: 1.0000 - val_loss: 7.3180 - val_accuracy: 0.4000\n",
      "Epoch 97/200\n",
      "15/15 [==============================] - 0s 8ms/step - loss: 9.5367e-08 - accuracy: 1.0000 - val_loss: 7.3254 - val_accuracy: 0.4000\n",
      "Epoch 98/200\n",
      "15/15 [==============================] - 0s 8ms/step - loss: 8.7420e-08 - accuracy: 1.0000 - val_loss: 7.3329 - val_accuracy: 0.4000\n",
      "Epoch 99/200\n",
      "15/15 [==============================] - 0s 7ms/step - loss: 8.4771e-08 - accuracy: 1.0000 - val_loss: 7.3391 - val_accuracy: 0.4000\n",
      "Epoch 100/200\n",
      "15/15 [==============================] - 0s 7ms/step - loss: 7.9473e-08 - accuracy: 1.0000 - val_loss: 7.3439 - val_accuracy: 0.4000\n",
      "Epoch 101/200\n",
      "15/15 [==============================] - 0s 7ms/step - loss: 7.9473e-08 - accuracy: 1.0000 - val_loss: 7.3480 - val_accuracy: 0.4000\n",
      "Epoch 102/200\n",
      "15/15 [==============================] - 0s 7ms/step - loss: 7.6824e-08 - accuracy: 1.0000 - val_loss: 7.3571 - val_accuracy: 0.4000\n",
      "Epoch 103/200\n",
      "15/15 [==============================] - 0s 7ms/step - loss: 7.4175e-08 - accuracy: 1.0000 - val_loss: 7.3673 - val_accuracy: 0.4000\n",
      "Epoch 104/200\n",
      "15/15 [==============================] - 0s 7ms/step - loss: 7.1526e-08 - accuracy: 1.0000 - val_loss: 7.3682 - val_accuracy: 0.4000\n",
      "Epoch 105/200\n",
      "15/15 [==============================] - 0s 7ms/step - loss: 6.6227e-08 - accuracy: 1.0000 - val_loss: 7.3745 - val_accuracy: 0.4000\n",
      "Epoch 106/200\n",
      "15/15 [==============================] - 0s 8ms/step - loss: 6.0929e-08 - accuracy: 1.0000 - val_loss: 7.3758 - val_accuracy: 0.4000\n",
      "Epoch 107/200\n",
      "15/15 [==============================] - 0s 7ms/step - loss: 6.0929e-08 - accuracy: 1.0000 - val_loss: 7.3774 - val_accuracy: 0.4000\n",
      "Epoch 108/200\n",
      "15/15 [==============================] - 0s 7ms/step - loss: 6.0929e-08 - accuracy: 1.0000 - val_loss: 7.3885 - val_accuracy: 0.4000\n",
      "Epoch 109/200\n",
      "15/15 [==============================] - 0s 7ms/step - loss: 5.8280e-08 - accuracy: 1.0000 - val_loss: 7.3921 - val_accuracy: 0.4000\n",
      "Epoch 110/200\n",
      "15/15 [==============================] - 0s 7ms/step - loss: 5.0333e-08 - accuracy: 1.0000 - val_loss: 7.3977 - val_accuracy: 0.4000\n",
      "Epoch 111/200\n",
      "15/15 [==============================] - 0s 8ms/step - loss: 4.7684e-08 - accuracy: 1.0000 - val_loss: 7.4048 - val_accuracy: 0.4000\n",
      "Epoch 112/200\n",
      "15/15 [==============================] - 0s 8ms/step - loss: 4.7684e-08 - accuracy: 1.0000 - val_loss: 7.4148 - val_accuracy: 0.4000\n",
      "Epoch 113/200\n",
      "15/15 [==============================] - 0s 8ms/step - loss: 4.7684e-08 - accuracy: 1.0000 - val_loss: 7.4211 - val_accuracy: 0.4000\n",
      "Epoch 114/200\n",
      "15/15 [==============================] - 0s 7ms/step - loss: 4.7684e-08 - accuracy: 1.0000 - val_loss: 7.4216 - val_accuracy: 0.4000\n",
      "Epoch 115/200\n",
      "15/15 [==============================] - 0s 7ms/step - loss: 4.5035e-08 - accuracy: 1.0000 - val_loss: 7.4287 - val_accuracy: 0.4000\n",
      "Epoch 116/200\n",
      "15/15 [==============================] - 0s 8ms/step - loss: 4.2386e-08 - accuracy: 1.0000 - val_loss: 7.4323 - val_accuracy: 0.4000\n",
      "Epoch 117/200\n",
      "15/15 [==============================] - 0s 8ms/step - loss: 4.2386e-08 - accuracy: 1.0000 - val_loss: 7.4438 - val_accuracy: 0.4000\n",
      "Epoch 118/200\n",
      "15/15 [==============================] - 0s 8ms/step - loss: 3.9736e-08 - accuracy: 1.0000 - val_loss: 7.4549 - val_accuracy: 0.4000\n",
      "Epoch 119/200\n",
      "15/15 [==============================] - 0s 7ms/step - loss: 3.9736e-08 - accuracy: 1.0000 - val_loss: 7.4602 - val_accuracy: 0.4000\n",
      "Epoch 120/200\n",
      "15/15 [==============================] - 0s 7ms/step - loss: 3.9736e-08 - accuracy: 1.0000 - val_loss: 7.4693 - val_accuracy: 0.4000\n",
      "Epoch 121/200\n",
      "15/15 [==============================] - 0s 7ms/step - loss: 3.7087e-08 - accuracy: 1.0000 - val_loss: 7.4816 - val_accuracy: 0.4000\n",
      "Epoch 122/200\n",
      "15/15 [==============================] - 0s 7ms/step - loss: 3.7087e-08 - accuracy: 1.0000 - val_loss: 7.4823 - val_accuracy: 0.4000\n",
      "Epoch 123/200\n",
      "15/15 [==============================] - 0s 7ms/step - loss: 3.4438e-08 - accuracy: 1.0000 - val_loss: 7.4857 - val_accuracy: 0.4000\n",
      "Epoch 124/200\n",
      "15/15 [==============================] - 0s 7ms/step - loss: 3.1789e-08 - accuracy: 1.0000 - val_loss: 7.4883 - val_accuracy: 0.4000\n",
      "Epoch 125/200\n",
      "15/15 [==============================] - 0s 8ms/step - loss: 3.1789e-08 - accuracy: 1.0000 - val_loss: 7.4891 - val_accuracy: 0.4000\n",
      "Epoch 126/200\n",
      "15/15 [==============================] - 0s 7ms/step - loss: 3.1789e-08 - accuracy: 1.0000 - val_loss: 7.4906 - val_accuracy: 0.4000\n",
      "Epoch 127/200\n",
      "15/15 [==============================] - 0s 7ms/step - loss: 3.1789e-08 - accuracy: 1.0000 - val_loss: 7.4981 - val_accuracy: 0.4000\n",
      "Epoch 128/200\n",
      "15/15 [==============================] - 0s 8ms/step - loss: 3.1789e-08 - accuracy: 1.0000 - val_loss: 7.4977 - val_accuracy: 0.4000\n",
      "Epoch 129/200\n",
      "15/15 [==============================] - 0s 7ms/step - loss: 3.1789e-08 - accuracy: 1.0000 - val_loss: 7.5006 - val_accuracy: 0.4000\n",
      "Epoch 130/200\n",
      "15/15 [==============================] - 0s 7ms/step - loss: 3.1789e-08 - accuracy: 1.0000 - val_loss: 7.5060 - val_accuracy: 0.4000\n",
      "Epoch 131/200\n",
      "15/15 [==============================] - 0s 7ms/step - loss: 2.9140e-08 - accuracy: 1.0000 - val_loss: 7.5084 - val_accuracy: 0.4000\n",
      "Epoch 132/200\n",
      "15/15 [==============================] - 0s 7ms/step - loss: 2.9140e-08 - accuracy: 1.0000 - val_loss: 7.5120 - val_accuracy: 0.4000\n",
      "Epoch 133/200\n",
      "15/15 [==============================] - 0s 7ms/step - loss: 2.6491e-08 - accuracy: 1.0000 - val_loss: 7.5173 - val_accuracy: 0.4000\n",
      "Epoch 134/200\n",
      "15/15 [==============================] - 0s 7ms/step - loss: 2.3842e-08 - accuracy: 1.0000 - val_loss: 7.5163 - val_accuracy: 0.4000\n",
      "Epoch 135/200\n",
      "15/15 [==============================] - 0s 7ms/step - loss: 2.3842e-08 - accuracy: 1.0000 - val_loss: 7.5171 - val_accuracy: 0.4000\n",
      "Epoch 136/200\n",
      "15/15 [==============================] - 0s 7ms/step - loss: 2.3842e-08 - accuracy: 1.0000 - val_loss: 7.5201 - val_accuracy: 0.4000\n",
      "Epoch 137/200\n",
      "15/15 [==============================] - 0s 8ms/step - loss: 2.3842e-08 - accuracy: 1.0000 - val_loss: 7.5181 - val_accuracy: 0.4000\n",
      "Epoch 138/200\n",
      "15/15 [==============================] - 0s 8ms/step - loss: 2.1193e-08 - accuracy: 1.0000 - val_loss: 7.5185 - val_accuracy: 0.4000\n",
      "Epoch 139/200\n",
      "15/15 [==============================] - 0s 8ms/step - loss: 2.1193e-08 - accuracy: 1.0000 - val_loss: 7.5200 - val_accuracy: 0.4000\n",
      "Epoch 140/200\n",
      "15/15 [==============================] - 0s 7ms/step - loss: 2.1193e-08 - accuracy: 1.0000 - val_loss: 7.5215 - val_accuracy: 0.4000\n",
      "Epoch 141/200\n",
      "15/15 [==============================] - 0s 8ms/step - loss: 1.8544e-08 - accuracy: 1.0000 - val_loss: 7.5179 - val_accuracy: 0.4000\n",
      "Epoch 142/200\n",
      "15/15 [==============================] - 0s 8ms/step - loss: 1.8544e-08 - accuracy: 1.0000 - val_loss: 7.5175 - val_accuracy: 0.4000\n",
      "Epoch 143/200\n",
      "15/15 [==============================] - 0s 7ms/step - loss: 1.8544e-08 - accuracy: 1.0000 - val_loss: 7.5230 - val_accuracy: 0.4000\n",
      "Epoch 144/200\n",
      "15/15 [==============================] - 0s 7ms/step - loss: 1.8544e-08 - accuracy: 1.0000 - val_loss: 7.5229 - val_accuracy: 0.4000\n",
      "Epoch 145/200\n",
      "15/15 [==============================] - 0s 7ms/step - loss: 1.8544e-08 - accuracy: 1.0000 - val_loss: 7.5246 - val_accuracy: 0.4000\n",
      "Epoch 146/200\n",
      "15/15 [==============================] - 0s 7ms/step - loss: 1.8544e-08 - accuracy: 1.0000 - val_loss: 7.5267 - val_accuracy: 0.4000\n",
      "Epoch 147/200\n",
      "15/15 [==============================] - 0s 7ms/step - loss: 1.8544e-08 - accuracy: 1.0000 - val_loss: 7.5249 - val_accuracy: 0.4000\n",
      "Epoch 148/200\n",
      "15/15 [==============================] - 0s 8ms/step - loss: 1.5895e-08 - accuracy: 1.0000 - val_loss: 7.5284 - val_accuracy: 0.4000\n",
      "Epoch 149/200\n",
      "15/15 [==============================] - 0s 7ms/step - loss: 1.5895e-08 - accuracy: 1.0000 - val_loss: 7.5286 - val_accuracy: 0.4000\n",
      "Epoch 150/200\n",
      "15/15 [==============================] - 0s 7ms/step - loss: 1.5895e-08 - accuracy: 1.0000 - val_loss: 7.5311 - val_accuracy: 0.4000\n",
      "Epoch 151/200\n",
      "15/15 [==============================] - 0s 8ms/step - loss: 1.5895e-08 - accuracy: 1.0000 - val_loss: 7.5346 - val_accuracy: 0.4000\n",
      "Epoch 152/200\n",
      "15/15 [==============================] - 0s 8ms/step - loss: 1.5895e-08 - accuracy: 1.0000 - val_loss: 7.5337 - val_accuracy: 0.4000\n",
      "Epoch 153/200\n",
      "15/15 [==============================] - 0s 8ms/step - loss: 1.5895e-08 - accuracy: 1.0000 - val_loss: 7.5370 - val_accuracy: 0.4000\n",
      "Epoch 154/200\n",
      "15/15 [==============================] - 0s 7ms/step - loss: 1.5895e-08 - accuracy: 1.0000 - val_loss: 7.5368 - val_accuracy: 0.4000\n",
      "Epoch 155/200\n",
      "15/15 [==============================] - 0s 7ms/step - loss: 1.3245e-08 - accuracy: 1.0000 - val_loss: 7.5367 - val_accuracy: 0.4000\n",
      "Epoch 156/200\n",
      "15/15 [==============================] - 0s 7ms/step - loss: 1.3245e-08 - accuracy: 1.0000 - val_loss: 7.5424 - val_accuracy: 0.4000\n",
      "Epoch 157/200\n",
      "15/15 [==============================] - 0s 8ms/step - loss: 1.3245e-08 - accuracy: 1.0000 - val_loss: 7.5418 - val_accuracy: 0.4000\n",
      "Epoch 158/200\n",
      "15/15 [==============================] - 0s 7ms/step - loss: 1.3245e-08 - accuracy: 1.0000 - val_loss: 7.5402 - val_accuracy: 0.4000\n",
      "Epoch 159/200\n",
      "15/15 [==============================] - 0s 7ms/step - loss: 1.3245e-08 - accuracy: 1.0000 - val_loss: 7.5432 - val_accuracy: 0.4000\n",
      "Epoch 160/200\n",
      "15/15 [==============================] - 0s 8ms/step - loss: 1.3245e-08 - accuracy: 1.0000 - val_loss: 7.5414 - val_accuracy: 0.4000\n",
      "Epoch 161/200\n",
      "15/15 [==============================] - 0s 7ms/step - loss: 1.3245e-08 - accuracy: 1.0000 - val_loss: 7.5494 - val_accuracy: 0.4000\n",
      "Epoch 162/200\n",
      "15/15 [==============================] - 0s 7ms/step - loss: 1.3245e-08 - accuracy: 1.0000 - val_loss: 7.5475 - val_accuracy: 0.4000\n",
      "Epoch 163/200\n",
      "15/15 [==============================] - 0s 7ms/step - loss: 1.0596e-08 - accuracy: 1.0000 - val_loss: 7.5478 - val_accuracy: 0.4000\n",
      "Epoch 164/200\n",
      "15/15 [==============================] - 0s 7ms/step - loss: 1.3245e-08 - accuracy: 1.0000 - val_loss: 7.5484 - val_accuracy: 0.4000\n",
      "Epoch 165/200\n",
      "15/15 [==============================] - 0s 7ms/step - loss: 1.3245e-08 - accuracy: 1.0000 - val_loss: 7.5531 - val_accuracy: 0.4000\n",
      "Epoch 166/200\n",
      "15/15 [==============================] - 0s 7ms/step - loss: 1.0596e-08 - accuracy: 1.0000 - val_loss: 7.5562 - val_accuracy: 0.4000\n",
      "Epoch 167/200\n",
      "15/15 [==============================] - 0s 7ms/step - loss: 1.0596e-08 - accuracy: 1.0000 - val_loss: 7.5541 - val_accuracy: 0.4000\n",
      "Epoch 168/200\n",
      "15/15 [==============================] - 0s 7ms/step - loss: 1.0596e-08 - accuracy: 1.0000 - val_loss: 7.5554 - val_accuracy: 0.4000\n",
      "Epoch 169/200\n",
      "15/15 [==============================] - 0s 7ms/step - loss: 1.0596e-08 - accuracy: 1.0000 - val_loss: 7.5586 - val_accuracy: 0.4000\n",
      "Epoch 170/200\n",
      "15/15 [==============================] - 0s 8ms/step - loss: 1.0596e-08 - accuracy: 1.0000 - val_loss: 7.5607 - val_accuracy: 0.4000\n",
      "Epoch 171/200\n",
      "15/15 [==============================] - 0s 8ms/step - loss: 1.0596e-08 - accuracy: 1.0000 - val_loss: 7.5603 - val_accuracy: 0.4000\n",
      "Epoch 172/200\n",
      "15/15 [==============================] - 0s 7ms/step - loss: 1.0596e-08 - accuracy: 1.0000 - val_loss: 7.5632 - val_accuracy: 0.4000\n",
      "Epoch 173/200\n",
      "15/15 [==============================] - 0s 7ms/step - loss: 1.0596e-08 - accuracy: 1.0000 - val_loss: 7.5665 - val_accuracy: 0.4000\n",
      "Epoch 174/200\n",
      "15/15 [==============================] - 0s 7ms/step - loss: 1.0596e-08 - accuracy: 1.0000 - val_loss: 7.5643 - val_accuracy: 0.4000\n",
      "Epoch 175/200\n",
      "15/15 [==============================] - 0s 8ms/step - loss: 1.0596e-08 - accuracy: 1.0000 - val_loss: 7.5684 - val_accuracy: 0.4000\n",
      "Epoch 176/200\n",
      "15/15 [==============================] - 0s 8ms/step - loss: 1.0596e-08 - accuracy: 1.0000 - val_loss: 7.5724 - val_accuracy: 0.4000\n",
      "Epoch 177/200\n",
      "15/15 [==============================] - 0s 9ms/step - loss: 1.0596e-08 - accuracy: 1.0000 - val_loss: 7.5730 - val_accuracy: 0.4000\n",
      "Epoch 178/200\n",
      "15/15 [==============================] - 0s 9ms/step - loss: 1.0596e-08 - accuracy: 1.0000 - val_loss: 7.5753 - val_accuracy: 0.4000\n",
      "Epoch 179/200\n",
      "15/15 [==============================] - 0s 9ms/step - loss: 1.0596e-08 - accuracy: 1.0000 - val_loss: 7.5780 - val_accuracy: 0.4000\n",
      "Epoch 180/200\n",
      "15/15 [==============================] - 0s 8ms/step - loss: 1.0596e-08 - accuracy: 1.0000 - val_loss: 7.5775 - val_accuracy: 0.4000\n",
      "Epoch 181/200\n",
      "15/15 [==============================] - 0s 8ms/step - loss: 1.0596e-08 - accuracy: 1.0000 - val_loss: 7.5789 - val_accuracy: 0.4000\n",
      "Epoch 182/200\n",
      "15/15 [==============================] - 0s 8ms/step - loss: 1.0596e-08 - accuracy: 1.0000 - val_loss: 7.5817 - val_accuracy: 0.4000\n",
      "Epoch 183/200\n",
      "15/15 [==============================] - 0s 8ms/step - loss: 1.0596e-08 - accuracy: 1.0000 - val_loss: 7.5874 - val_accuracy: 0.4000\n",
      "Epoch 184/200\n",
      "15/15 [==============================] - 0s 8ms/step - loss: 1.0596e-08 - accuracy: 1.0000 - val_loss: 7.5863 - val_accuracy: 0.4000\n",
      "Epoch 185/200\n",
      "15/15 [==============================] - 0s 8ms/step - loss: 7.9473e-09 - accuracy: 1.0000 - val_loss: 7.5863 - val_accuracy: 0.4000\n",
      "Epoch 186/200\n",
      "15/15 [==============================] - 0s 9ms/step - loss: 7.9473e-09 - accuracy: 1.0000 - val_loss: 7.5907 - val_accuracy: 0.4000\n",
      "Epoch 187/200\n",
      "15/15 [==============================] - 0s 8ms/step - loss: 7.9473e-09 - accuracy: 1.0000 - val_loss: 7.5920 - val_accuracy: 0.4000\n",
      "Epoch 188/200\n",
      "15/15 [==============================] - 0s 8ms/step - loss: 7.9473e-09 - accuracy: 1.0000 - val_loss: 7.5958 - val_accuracy: 0.4000\n",
      "Epoch 189/200\n",
      "15/15 [==============================] - 0s 7ms/step - loss: 7.9473e-09 - accuracy: 1.0000 - val_loss: 7.5957 - val_accuracy: 0.4000\n",
      "Epoch 190/200\n",
      "15/15 [==============================] - 0s 8ms/step - loss: 7.9473e-09 - accuracy: 1.0000 - val_loss: 7.6010 - val_accuracy: 0.4000\n",
      "Epoch 191/200\n",
      "15/15 [==============================] - 0s 9ms/step - loss: 7.9473e-09 - accuracy: 1.0000 - val_loss: 7.6024 - val_accuracy: 0.4000\n",
      "Epoch 192/200\n",
      "15/15 [==============================] - 0s 8ms/step - loss: 7.9473e-09 - accuracy: 1.0000 - val_loss: 7.6036 - val_accuracy: 0.4000\n",
      "Epoch 193/200\n",
      "15/15 [==============================] - 0s 7ms/step - loss: 7.9473e-09 - accuracy: 1.0000 - val_loss: 7.6070 - val_accuracy: 0.4000\n",
      "Epoch 194/200\n",
      "15/15 [==============================] - 0s 7ms/step - loss: 7.9473e-09 - accuracy: 1.0000 - val_loss: 7.6079 - val_accuracy: 0.4000\n",
      "Epoch 195/200\n",
      "15/15 [==============================] - 0s 7ms/step - loss: 7.9473e-09 - accuracy: 1.0000 - val_loss: 7.6113 - val_accuracy: 0.4000\n",
      "Epoch 196/200\n",
      "15/15 [==============================] - 0s 8ms/step - loss: 7.9473e-09 - accuracy: 1.0000 - val_loss: 7.6126 - val_accuracy: 0.4000\n",
      "Epoch 197/200\n",
      "15/15 [==============================] - 0s 7ms/step - loss: 7.9473e-09 - accuracy: 1.0000 - val_loss: 7.6178 - val_accuracy: 0.4000\n",
      "Epoch 198/200\n",
      "15/15 [==============================] - 0s 7ms/step - loss: 5.2982e-09 - accuracy: 1.0000 - val_loss: 7.6174 - val_accuracy: 0.4000\n",
      "Epoch 199/200\n",
      "15/15 [==============================] - 0s 7ms/step - loss: 7.9473e-09 - accuracy: 1.0000 - val_loss: 7.6224 - val_accuracy: 0.4000\n",
      "Epoch 200/200\n",
      "15/15 [==============================] - 0s 7ms/step - loss: 5.2982e-09 - accuracy: 1.0000 - val_loss: 7.6222 - val_accuracy: 0.4000\n"
     ]
    },
    {
     "output_type": "execute_result",
     "data": {
      "text/plain": [
       "<tensorflow.python.keras.callbacks.History at 0x2262997a7f0>"
      ]
     },
     "metadata": {},
     "execution_count": 7
    }
   ],
   "source": [
    "model.fit_generator(\n",
    "    train_generator,\n",
    "    steps_per_epoch=15,\n",
    "    epochs=200,\n",
    "    validation_data=test_generator,\n",
    "    validation_steps=5\n",
    ")"
   ]
  },
  {
   "cell_type": "code",
   "execution_count": 8,
   "metadata": {},
   "outputs": [
    {
     "output_type": "stream",
     "name": "stdout",
     "text": [
      "5/5 [==============================] - 0s 3ms/step - loss: 7.6222 - accuracy: 0.4000\n",
      "Accuracy: 0.4000\n"
     ]
    }
   ],
   "source": [
    "# acc = model.evaluate_generator(test_generator, steps=5) - deprecated\n",
    "acc = model.evaluate(test_generator, steps=5)\n",
    "print(f'Accuracy: {acc[1]:.4f}')"
   ]
  },
  {
   "cell_type": "code",
   "execution_count": null,
   "metadata": {},
   "outputs": [],
   "source": [
    "  "
   ]
  }
 ]
}