{
 "metadata": {
  "language_info": {
   "codemirror_mode": {
    "name": "ipython",
    "version": 3
   },
   "file_extension": ".py",
   "mimetype": "text/x-python",
   "name": "python",
   "nbconvert_exporter": "python",
   "pygments_lexer": "ipython3",
   "version": "3.8.5"
  },
  "orig_nbformat": 4,
  "kernelspec": {
   "name": "python3",
   "display_name": "Python 3.8.5 64-bit ('base': conda)"
  },
  "interpreter": {
   "hash": "8c1eae21719a0790335dcb83aad72b63b602cfe5cdb2bda0f60bc11d4f154e4b"
  }
 },
 "nbformat": 4,
 "nbformat_minor": 2,
 "cells": [
  {
   "source": [
    "# 공공 인공지능 Open API 활용"
   ],
   "cell_type": "markdown",
   "metadata": {}
  },
  {
   "cell_type": "code",
   "execution_count": 1,
   "metadata": {},
   "outputs": [],
   "source": [
    "with open('etriaikey.txt') as kfile:\n",
    "    etri_key = kfile.read()"
   ]
  },
  {
   "cell_type": "code",
   "execution_count": 2,
   "metadata": {},
   "outputs": [],
   "source": [
    "import urllib3\n",
    "import json\n",
    "import base64\n",
    "openApiURL = \"http://aiopen.etri.re.kr:8000/ObjectDetect\""
   ]
  },
  {
   "cell_type": "code",
   "execution_count": 3,
   "metadata": {},
   "outputs": [
    {
     "output_type": "execute_result",
     "data": {
      "text/plain": [
       "'.jpg'"
      ]
     },
     "metadata": {},
     "execution_count": 3
    }
   ],
   "source": [
    "import os\n",
    "image_file = 'img/zoo.jpg'\n",
    "_, image_type = os.path.splitext(image_file)\n",
    "image_type"
   ]
  },
  {
   "cell_type": "code",
   "execution_count": 4,
   "metadata": {},
   "outputs": [
    {
     "output_type": "execute_result",
     "data": {
      "text/plain": [
       "'jpg'"
      ]
     },
     "metadata": {},
     "execution_count": 4
    }
   ],
   "source": [
    "image_type = 'jpg' if image_type == '.jfif' else image_type[1:]\n",
    "image_type"
   ]
  },
  {
   "cell_type": "code",
   "execution_count": null,
   "metadata": {},
   "outputs": [],
   "source": [
    "file = open(imageFilePath, \"rb\")\n",
    "imageContents = base64.b64encode(file.read()).decode(\"utf8\")\n",
    "file.close()"
   ]
  },
  {
   "cell_type": "code",
   "execution_count": null,
   "metadata": {},
   "outputs": [],
   "source": [
    "requestJson = {\n",
    "    \"access_key\": accessKey,\n",
    "    \"argument\": {\n",
    "        \"type\": type,\n",
    "        \"file\": imageContents\n",
    "    }\n",
    "}"
   ]
  }
 ]
}